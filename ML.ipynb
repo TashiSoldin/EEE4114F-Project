{
 "cells": [
  {
   "attachments": {},
   "cell_type": "markdown",
   "metadata": {},
   "source": [
    "### ML Project"
   ]
  },
  {
   "cell_type": "code",
   "execution_count": 80,
   "metadata": {},
   "outputs": [],
   "source": [
    "import numpy as np \n",
    "import pandas as pd \n",
    "import seaborn as sns\n",
    "import matplotlib.pyplot as plt\n",
    "from PIL import Image\n",
    "import os\n"
   ]
  },
  {
   "cell_type": "code",
   "execution_count": 81,
   "metadata": {},
   "outputs": [],
   "source": [
    "capacitor_list = []     # 1\n",
    "diode_list = []         # 2\n",
    "ground_list = []        # 3\n",
    "inductor_list = []      # 4\n",
    "resistor_list = []      # 5\n",
    "\n",
    "capacitor_directory_path = \"input/capacitor_PNG\"\n",
    "diode_directory_path = \"input/diode_PNG\"\n",
    "ground_directory_path = \"input/ground_PNG\"\n",
    "inductor_directory_path = \"input/inductor_PNG\"\n",
    "resistor_directory_path = \"input/resistor_PNG\"\n",
    "\n",
    "extension = 'png'\n",
    "\n",
    "for filename in os.listdir(capacitor_directory_path):\n",
    "    if filename[-3:] == extension:\n",
    "        image = Image.open(os.path.join(capacitor_directory_path, filename))\n",
    "        image = image.convert('L')\n",
    "        image = np.array(image)\n",
    "        # plt.imshow(image)\n",
    "        # plt.show()\n",
    "        capacitor_list.append(image)\n",
    "\n",
    "for filename in os.listdir(diode_directory_path):\n",
    "    if filename[-3:] == extension:\n",
    "        image = Image.open(os.path.join(diode_directory_path, filename))\n",
    "        image = image.convert('L')\n",
    "        image = np.array(image)\n",
    "        # plt.imshow(image)\n",
    "        # plt.show()\n",
    "        diode_list.append(image)\n",
    "\n",
    "for filename in os.listdir(ground_directory_path):\n",
    "    if filename[-3:] == extension:\n",
    "        image = Image.open(os.path.join(ground_directory_path, filename))\n",
    "        image = image.convert('L')\n",
    "        image = np.array(image)\n",
    "        # plt.imshow(image)\n",
    "        # plt.show()\n",
    "        ground_list.append(image)\n",
    "\n",
    "for filename in os.listdir(inductor_directory_path):\n",
    "    if filename[-3:] == extension:\n",
    "        image = Image.open(os.path.join(inductor_directory_path, filename))\n",
    "        image = image.convert('L')\n",
    "        image = np.array(image)\n",
    "        # plt.imshow(image)\n",
    "        # plt.show()\n",
    "        inductor_list.append(image)\n",
    "\n",
    "for filename in os.listdir(resistor_directory_path):\n",
    "    if filename[-3:] == extension:\n",
    "        image = Image.open(os.path.join(resistor_directory_path, filename))\n",
    "        image = image.convert('L')\n",
    "        image = np.array(image)\n",
    "        # plt.imshow(image)\n",
    "        # plt.show()\n",
    "        resistor_list.append(image)\n",
    "\n",
    "\n"
   ]
  },
  {
   "cell_type": "code",
   "execution_count": 84,
   "metadata": {},
   "outputs": [
    {
     "name": "stdout",
     "output_type": "stream",
     "text": [
      "[0 0 0 0 0 0 0 0 0 0 0 0 0 0 0 0 0 0 0 0 0 0 0 0 0 0 0 0 0 0 0 0 0 0 0 0 0\n",
      " 0 0 0 0 0 0 0 0 0 0 0 0 0 0 0 0 0 0 0 0 0 0 0 0 0 0 0 0 0 0 0 0 0 0 0 0 0\n",
      " 0 0 0 0 0 0 0 0 0 0 0 0 0 0 0 0 0 0 0 0 0 0 0 0 0 0 0 0 0 0 0 0 0 0 0 0 0\n",
      " 0 0 0 0 0 0 0 0 0]\n"
     ]
    }
   ],
   "source": [
    "# resistor_list = [arr.reshape((120, 120)) for arr in resistor_list]\n",
    "# inductor_list = [arr.reshape((120, 120)) for arr in inductor_list]\n",
    "\n",
    "capacitor_list = np.array(capacitor_list)\n",
    "diode_list = np.array(diode_list)\n",
    "ground_list = np.array(ground_list)\n",
    "inductor_list = np.array(inductor_list)\n",
    "# resistor_list = np.array(resistor_list)\n",
    "\n"
   ]
  },
  {
   "cell_type": "code",
   "execution_count": 83,
   "metadata": {},
   "outputs": [],
   "source": [
    "# Splitting Data into Train, Test & Validate\n",
    "\n",
    "# capacitor_train = capacitor_list[0, 108]"
   ]
  }
 ],
 "metadata": {
  "kernelspec": {
   "display_name": "Python 3",
   "language": "python",
   "name": "python3"
  },
  "language_info": {
   "codemirror_mode": {
    "name": "ipython",
    "version": 3
   },
   "file_extension": ".py",
   "mimetype": "text/x-python",
   "name": "python",
   "nbconvert_exporter": "python",
   "pygments_lexer": "ipython3",
   "version": "3.10.6"
  },
  "orig_nbformat": 4
 },
 "nbformat": 4,
 "nbformat_minor": 2
}
